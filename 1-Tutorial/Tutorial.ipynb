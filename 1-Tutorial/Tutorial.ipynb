{
  "cells": [
    {
      "cell_type": "code",
      "execution_count": 4,
      "id": "72905ff2",
      "metadata": {
        "id": "72905ff2"
      },
      "outputs": [],
      "source": [
        "import tensorflow as tf"
      ]
    },
    {
      "cell_type": "code",
      "execution_count": null,
      "id": "629e7576",
      "metadata": {
        "id": "629e7576"
      },
      "outputs": [],
      "source": [
        "import numpy as np "
      ]
    },
    {
      "cell_type": "code",
      "execution_count": null,
      "id": "972af8e0",
      "metadata": {
        "id": "972af8e0"
      },
      "outputs": [],
      "source": [
        "filename = 'https://github.com/yeahsilver/Vision_Study/blob/main/1-Tutorial/cars.jpg'"
      ]
    },
    {
      "cell_type": "markdown",
      "id": "0784e166",
      "metadata": {
        "id": "0784e166"
      },
      "source": [
        "# First Method to load an image"
      ]
    },
    {
      "cell_type": "code",
      "execution_count": null,
      "id": "7c645e56",
      "metadata": {
        "id": "7c645e56"
      },
      "outputs": [],
      "source": [
        "from IPython.display import Image\n",
        "Image(filename = '/cars.jpg', width=244, height=244)"
      ]
    }
  ],
  "metadata": {
    "kernelspec": {
      "display_name": "Python 3 (ipykernel)",
      "language": "python",
      "name": "python3"
    },
    "language_info": {
      "codemirror_mode": {
        "name": "ipython",
        "version": 3
      },
      "file_extension": ".py",
      "mimetype": "text/x-python",
      "name": "python",
      "nbconvert_exporter": "python",
      "pygments_lexer": "ipython3",
      "version": "3.9.12"
    },
    "colab": {
      "name": "Tutorial.ipynb",
      "provenance": []
    }
  },
  "nbformat": 4,
  "nbformat_minor": 5
}