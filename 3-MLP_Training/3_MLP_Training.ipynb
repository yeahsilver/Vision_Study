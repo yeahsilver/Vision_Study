{
  "nbformat": 4,
  "nbformat_minor": 0,
  "metadata": {
    "colab": {
      "name": "3_MLP_Training.ipynb",
      "provenance": [],
      "collapsed_sections": [],
      "authorship_tag": "ABX9TyPsk/0kNLHb3abPyiD9qR/W",
      "include_colab_link": true
    },
    "kernelspec": {
      "name": "python3",
      "display_name": "Python 3"
    },
    "language_info": {
      "name": "python"
    },
    "widgets": {
      "application/vnd.jupyter.widget-state+json": {
        "04413a94c540498d859e21ca74686cf5": {
          "model_module": "@jupyter-widgets/controls",
          "model_name": "HBoxModel",
          "model_module_version": "1.5.0",
          "state": {
            "_dom_classes": [],
            "_model_module": "@jupyter-widgets/controls",
            "_model_module_version": "1.5.0",
            "_model_name": "HBoxModel",
            "_view_count": null,
            "_view_module": "@jupyter-widgets/controls",
            "_view_module_version": "1.5.0",
            "_view_name": "HBoxView",
            "box_style": "",
            "children": [
              "IPY_MODEL_1d0fa36565d74d0cb30938ca5484b81f",
              "IPY_MODEL_45bed09011bd4d5fbdbbecb148bdb09c",
              "IPY_MODEL_e110db9a85d448b78a354113567aee9d"
            ],
            "layout": "IPY_MODEL_7de66d38ae2745918ee7a7601dd7dbc9"
          }
        },
        "1d0fa36565d74d0cb30938ca5484b81f": {
          "model_module": "@jupyter-widgets/controls",
          "model_name": "HTMLModel",
          "model_module_version": "1.5.0",
          "state": {
            "_dom_classes": [],
            "_model_module": "@jupyter-widgets/controls",
            "_model_module_version": "1.5.0",
            "_model_name": "HTMLModel",
            "_view_count": null,
            "_view_module": "@jupyter-widgets/controls",
            "_view_module_version": "1.5.0",
            "_view_name": "HTMLView",
            "description": "",
            "description_tooltip": null,
            "layout": "IPY_MODEL_a8e31430af064bec96debf3e4f3471e8",
            "placeholder": "​",
            "style": "IPY_MODEL_2b89ca026fdb4c0e9a9096a55c3255df",
            "value": ""
          }
        },
        "45bed09011bd4d5fbdbbecb148bdb09c": {
          "model_module": "@jupyter-widgets/controls",
          "model_name": "FloatProgressModel",
          "model_module_version": "1.5.0",
          "state": {
            "_dom_classes": [],
            "_model_module": "@jupyter-widgets/controls",
            "_model_module_version": "1.5.0",
            "_model_name": "FloatProgressModel",
            "_view_count": null,
            "_view_module": "@jupyter-widgets/controls",
            "_view_module_version": "1.5.0",
            "_view_name": "ProgressView",
            "bar_style": "success",
            "description": "",
            "description_tooltip": null,
            "layout": "IPY_MODEL_3830e5754c304463b83561553228b184",
            "max": 9912422,
            "min": 0,
            "orientation": "horizontal",
            "style": "IPY_MODEL_27ddffa899ef4bb580fff0a1e8d67315",
            "value": 9912422
          }
        },
        "e110db9a85d448b78a354113567aee9d": {
          "model_module": "@jupyter-widgets/controls",
          "model_name": "HTMLModel",
          "model_module_version": "1.5.0",
          "state": {
            "_dom_classes": [],
            "_model_module": "@jupyter-widgets/controls",
            "_model_module_version": "1.5.0",
            "_model_name": "HTMLModel",
            "_view_count": null,
            "_view_module": "@jupyter-widgets/controls",
            "_view_module_version": "1.5.0",
            "_view_name": "HTMLView",
            "description": "",
            "description_tooltip": null,
            "layout": "IPY_MODEL_2c8bfc4ccd1d404192811282bf9b1a25",
            "placeholder": "​",
            "style": "IPY_MODEL_8c55f3d0575b4ba68202f6711a1eb7eb",
            "value": " 9913344/? [00:02&lt;00:00, 4475708.45it/s]"
          }
        },
        "7de66d38ae2745918ee7a7601dd7dbc9": {
          "model_module": "@jupyter-widgets/base",
          "model_name": "LayoutModel",
          "model_module_version": "1.2.0",
          "state": {
            "_model_module": "@jupyter-widgets/base",
            "_model_module_version": "1.2.0",
            "_model_name": "LayoutModel",
            "_view_count": null,
            "_view_module": "@jupyter-widgets/base",
            "_view_module_version": "1.2.0",
            "_view_name": "LayoutView",
            "align_content": null,
            "align_items": null,
            "align_self": null,
            "border": null,
            "bottom": null,
            "display": null,
            "flex": null,
            "flex_flow": null,
            "grid_area": null,
            "grid_auto_columns": null,
            "grid_auto_flow": null,
            "grid_auto_rows": null,
            "grid_column": null,
            "grid_gap": null,
            "grid_row": null,
            "grid_template_areas": null,
            "grid_template_columns": null,
            "grid_template_rows": null,
            "height": null,
            "justify_content": null,
            "justify_items": null,
            "left": null,
            "margin": null,
            "max_height": null,
            "max_width": null,
            "min_height": null,
            "min_width": null,
            "object_fit": null,
            "object_position": null,
            "order": null,
            "overflow": null,
            "overflow_x": null,
            "overflow_y": null,
            "padding": null,
            "right": null,
            "top": null,
            "visibility": null,
            "width": null
          }
        },
        "a8e31430af064bec96debf3e4f3471e8": {
          "model_module": "@jupyter-widgets/base",
          "model_name": "LayoutModel",
          "model_module_version": "1.2.0",
          "state": {
            "_model_module": "@jupyter-widgets/base",
            "_model_module_version": "1.2.0",
            "_model_name": "LayoutModel",
            "_view_count": null,
            "_view_module": "@jupyter-widgets/base",
            "_view_module_version": "1.2.0",
            "_view_name": "LayoutView",
            "align_content": null,
            "align_items": null,
            "align_self": null,
            "border": null,
            "bottom": null,
            "display": null,
            "flex": null,
            "flex_flow": null,
            "grid_area": null,
            "grid_auto_columns": null,
            "grid_auto_flow": null,
            "grid_auto_rows": null,
            "grid_column": null,
            "grid_gap": null,
            "grid_row": null,
            "grid_template_areas": null,
            "grid_template_columns": null,
            "grid_template_rows": null,
            "height": null,
            "justify_content": null,
            "justify_items": null,
            "left": null,
            "margin": null,
            "max_height": null,
            "max_width": null,
            "min_height": null,
            "min_width": null,
            "object_fit": null,
            "object_position": null,
            "order": null,
            "overflow": null,
            "overflow_x": null,
            "overflow_y": null,
            "padding": null,
            "right": null,
            "top": null,
            "visibility": null,
            "width": null
          }
        },
        "2b89ca026fdb4c0e9a9096a55c3255df": {
          "model_module": "@jupyter-widgets/controls",
          "model_name": "DescriptionStyleModel",
          "model_module_version": "1.5.0",
          "state": {
            "_model_module": "@jupyter-widgets/controls",
            "_model_module_version": "1.5.0",
            "_model_name": "DescriptionStyleModel",
            "_view_count": null,
            "_view_module": "@jupyter-widgets/base",
            "_view_module_version": "1.2.0",
            "_view_name": "StyleView",
            "description_width": ""
          }
        },
        "3830e5754c304463b83561553228b184": {
          "model_module": "@jupyter-widgets/base",
          "model_name": "LayoutModel",
          "model_module_version": "1.2.0",
          "state": {
            "_model_module": "@jupyter-widgets/base",
            "_model_module_version": "1.2.0",
            "_model_name": "LayoutModel",
            "_view_count": null,
            "_view_module": "@jupyter-widgets/base",
            "_view_module_version": "1.2.0",
            "_view_name": "LayoutView",
            "align_content": null,
            "align_items": null,
            "align_self": null,
            "border": null,
            "bottom": null,
            "display": null,
            "flex": null,
            "flex_flow": null,
            "grid_area": null,
            "grid_auto_columns": null,
            "grid_auto_flow": null,
            "grid_auto_rows": null,
            "grid_column": null,
            "grid_gap": null,
            "grid_row": null,
            "grid_template_areas": null,
            "grid_template_columns": null,
            "grid_template_rows": null,
            "height": null,
            "justify_content": null,
            "justify_items": null,
            "left": null,
            "margin": null,
            "max_height": null,
            "max_width": null,
            "min_height": null,
            "min_width": null,
            "object_fit": null,
            "object_position": null,
            "order": null,
            "overflow": null,
            "overflow_x": null,
            "overflow_y": null,
            "padding": null,
            "right": null,
            "top": null,
            "visibility": null,
            "width": null
          }
        },
        "27ddffa899ef4bb580fff0a1e8d67315": {
          "model_module": "@jupyter-widgets/controls",
          "model_name": "ProgressStyleModel",
          "model_module_version": "1.5.0",
          "state": {
            "_model_module": "@jupyter-widgets/controls",
            "_model_module_version": "1.5.0",
            "_model_name": "ProgressStyleModel",
            "_view_count": null,
            "_view_module": "@jupyter-widgets/base",
            "_view_module_version": "1.2.0",
            "_view_name": "StyleView",
            "bar_color": null,
            "description_width": ""
          }
        },
        "2c8bfc4ccd1d404192811282bf9b1a25": {
          "model_module": "@jupyter-widgets/base",
          "model_name": "LayoutModel",
          "model_module_version": "1.2.0",
          "state": {
            "_model_module": "@jupyter-widgets/base",
            "_model_module_version": "1.2.0",
            "_model_name": "LayoutModel",
            "_view_count": null,
            "_view_module": "@jupyter-widgets/base",
            "_view_module_version": "1.2.0",
            "_view_name": "LayoutView",
            "align_content": null,
            "align_items": null,
            "align_self": null,
            "border": null,
            "bottom": null,
            "display": null,
            "flex": null,
            "flex_flow": null,
            "grid_area": null,
            "grid_auto_columns": null,
            "grid_auto_flow": null,
            "grid_auto_rows": null,
            "grid_column": null,
            "grid_gap": null,
            "grid_row": null,
            "grid_template_areas": null,
            "grid_template_columns": null,
            "grid_template_rows": null,
            "height": null,
            "justify_content": null,
            "justify_items": null,
            "left": null,
            "margin": null,
            "max_height": null,
            "max_width": null,
            "min_height": null,
            "min_width": null,
            "object_fit": null,
            "object_position": null,
            "order": null,
            "overflow": null,
            "overflow_x": null,
            "overflow_y": null,
            "padding": null,
            "right": null,
            "top": null,
            "visibility": null,
            "width": null
          }
        },
        "8c55f3d0575b4ba68202f6711a1eb7eb": {
          "model_module": "@jupyter-widgets/controls",
          "model_name": "DescriptionStyleModel",
          "model_module_version": "1.5.0",
          "state": {
            "_model_module": "@jupyter-widgets/controls",
            "_model_module_version": "1.5.0",
            "_model_name": "DescriptionStyleModel",
            "_view_count": null,
            "_view_module": "@jupyter-widgets/base",
            "_view_module_version": "1.2.0",
            "_view_name": "StyleView",
            "description_width": ""
          }
        },
        "4efaa6bf5d8c4454868f98ab25eae231": {
          "model_module": "@jupyter-widgets/controls",
          "model_name": "HBoxModel",
          "model_module_version": "1.5.0",
          "state": {
            "_dom_classes": [],
            "_model_module": "@jupyter-widgets/controls",
            "_model_module_version": "1.5.0",
            "_model_name": "HBoxModel",
            "_view_count": null,
            "_view_module": "@jupyter-widgets/controls",
            "_view_module_version": "1.5.0",
            "_view_name": "HBoxView",
            "box_style": "",
            "children": [
              "IPY_MODEL_c097a81c5b354153859b48ae7be23daf",
              "IPY_MODEL_01d6d3e8be354fb0acaf07ff33833320",
              "IPY_MODEL_38d1fca7e6374b7dbe0e43e22bd3bde7"
            ],
            "layout": "IPY_MODEL_4112b90ae3b940b2b0928c72f18a137b"
          }
        },
        "c097a81c5b354153859b48ae7be23daf": {
          "model_module": "@jupyter-widgets/controls",
          "model_name": "HTMLModel",
          "model_module_version": "1.5.0",
          "state": {
            "_dom_classes": [],
            "_model_module": "@jupyter-widgets/controls",
            "_model_module_version": "1.5.0",
            "_model_name": "HTMLModel",
            "_view_count": null,
            "_view_module": "@jupyter-widgets/controls",
            "_view_module_version": "1.5.0",
            "_view_name": "HTMLView",
            "description": "",
            "description_tooltip": null,
            "layout": "IPY_MODEL_2d36b52c8ee64bc99fc8e9809ed55d2e",
            "placeholder": "​",
            "style": "IPY_MODEL_7503b68f9dd94ea9aa8649d500043050",
            "value": ""
          }
        },
        "01d6d3e8be354fb0acaf07ff33833320": {
          "model_module": "@jupyter-widgets/controls",
          "model_name": "FloatProgressModel",
          "model_module_version": "1.5.0",
          "state": {
            "_dom_classes": [],
            "_model_module": "@jupyter-widgets/controls",
            "_model_module_version": "1.5.0",
            "_model_name": "FloatProgressModel",
            "_view_count": null,
            "_view_module": "@jupyter-widgets/controls",
            "_view_module_version": "1.5.0",
            "_view_name": "ProgressView",
            "bar_style": "success",
            "description": "",
            "description_tooltip": null,
            "layout": "IPY_MODEL_38f906d0164d4862a39a4cb69e644033",
            "max": 28881,
            "min": 0,
            "orientation": "horizontal",
            "style": "IPY_MODEL_3916af7b6c434181be4ba88d4784ae43",
            "value": 28881
          }
        },
        "38d1fca7e6374b7dbe0e43e22bd3bde7": {
          "model_module": "@jupyter-widgets/controls",
          "model_name": "HTMLModel",
          "model_module_version": "1.5.0",
          "state": {
            "_dom_classes": [],
            "_model_module": "@jupyter-widgets/controls",
            "_model_module_version": "1.5.0",
            "_model_name": "HTMLModel",
            "_view_count": null,
            "_view_module": "@jupyter-widgets/controls",
            "_view_module_version": "1.5.0",
            "_view_name": "HTMLView",
            "description": "",
            "description_tooltip": null,
            "layout": "IPY_MODEL_7536900d78cc4b08ae95f52e54a00b65",
            "placeholder": "​",
            "style": "IPY_MODEL_dcc0f21d6a974ef4b9d4b63d5ac087d1",
            "value": " 29696/? [00:00&lt;00:00, 689866.69it/s]"
          }
        },
        "4112b90ae3b940b2b0928c72f18a137b": {
          "model_module": "@jupyter-widgets/base",
          "model_name": "LayoutModel",
          "model_module_version": "1.2.0",
          "state": {
            "_model_module": "@jupyter-widgets/base",
            "_model_module_version": "1.2.0",
            "_model_name": "LayoutModel",
            "_view_count": null,
            "_view_module": "@jupyter-widgets/base",
            "_view_module_version": "1.2.0",
            "_view_name": "LayoutView",
            "align_content": null,
            "align_items": null,
            "align_self": null,
            "border": null,
            "bottom": null,
            "display": null,
            "flex": null,
            "flex_flow": null,
            "grid_area": null,
            "grid_auto_columns": null,
            "grid_auto_flow": null,
            "grid_auto_rows": null,
            "grid_column": null,
            "grid_gap": null,
            "grid_row": null,
            "grid_template_areas": null,
            "grid_template_columns": null,
            "grid_template_rows": null,
            "height": null,
            "justify_content": null,
            "justify_items": null,
            "left": null,
            "margin": null,
            "max_height": null,
            "max_width": null,
            "min_height": null,
            "min_width": null,
            "object_fit": null,
            "object_position": null,
            "order": null,
            "overflow": null,
            "overflow_x": null,
            "overflow_y": null,
            "padding": null,
            "right": null,
            "top": null,
            "visibility": null,
            "width": null
          }
        },
        "2d36b52c8ee64bc99fc8e9809ed55d2e": {
          "model_module": "@jupyter-widgets/base",
          "model_name": "LayoutModel",
          "model_module_version": "1.2.0",
          "state": {
            "_model_module": "@jupyter-widgets/base",
            "_model_module_version": "1.2.0",
            "_model_name": "LayoutModel",
            "_view_count": null,
            "_view_module": "@jupyter-widgets/base",
            "_view_module_version": "1.2.0",
            "_view_name": "LayoutView",
            "align_content": null,
            "align_items": null,
            "align_self": null,
            "border": null,
            "bottom": null,
            "display": null,
            "flex": null,
            "flex_flow": null,
            "grid_area": null,
            "grid_auto_columns": null,
            "grid_auto_flow": null,
            "grid_auto_rows": null,
            "grid_column": null,
            "grid_gap": null,
            "grid_row": null,
            "grid_template_areas": null,
            "grid_template_columns": null,
            "grid_template_rows": null,
            "height": null,
            "justify_content": null,
            "justify_items": null,
            "left": null,
            "margin": null,
            "max_height": null,
            "max_width": null,
            "min_height": null,
            "min_width": null,
            "object_fit": null,
            "object_position": null,
            "order": null,
            "overflow": null,
            "overflow_x": null,
            "overflow_y": null,
            "padding": null,
            "right": null,
            "top": null,
            "visibility": null,
            "width": null
          }
        },
        "7503b68f9dd94ea9aa8649d500043050": {
          "model_module": "@jupyter-widgets/controls",
          "model_name": "DescriptionStyleModel",
          "model_module_version": "1.5.0",
          "state": {
            "_model_module": "@jupyter-widgets/controls",
            "_model_module_version": "1.5.0",
            "_model_name": "DescriptionStyleModel",
            "_view_count": null,
            "_view_module": "@jupyter-widgets/base",
            "_view_module_version": "1.2.0",
            "_view_name": "StyleView",
            "description_width": ""
          }
        },
        "38f906d0164d4862a39a4cb69e644033": {
          "model_module": "@jupyter-widgets/base",
          "model_name": "LayoutModel",
          "model_module_version": "1.2.0",
          "state": {
            "_model_module": "@jupyter-widgets/base",
            "_model_module_version": "1.2.0",
            "_model_name": "LayoutModel",
            "_view_count": null,
            "_view_module": "@jupyter-widgets/base",
            "_view_module_version": "1.2.0",
            "_view_name": "LayoutView",
            "align_content": null,
            "align_items": null,
            "align_self": null,
            "border": null,
            "bottom": null,
            "display": null,
            "flex": null,
            "flex_flow": null,
            "grid_area": null,
            "grid_auto_columns": null,
            "grid_auto_flow": null,
            "grid_auto_rows": null,
            "grid_column": null,
            "grid_gap": null,
            "grid_row": null,
            "grid_template_areas": null,
            "grid_template_columns": null,
            "grid_template_rows": null,
            "height": null,
            "justify_content": null,
            "justify_items": null,
            "left": null,
            "margin": null,
            "max_height": null,
            "max_width": null,
            "min_height": null,
            "min_width": null,
            "object_fit": null,
            "object_position": null,
            "order": null,
            "overflow": null,
            "overflow_x": null,
            "overflow_y": null,
            "padding": null,
            "right": null,
            "top": null,
            "visibility": null,
            "width": null
          }
        },
        "3916af7b6c434181be4ba88d4784ae43": {
          "model_module": "@jupyter-widgets/controls",
          "model_name": "ProgressStyleModel",
          "model_module_version": "1.5.0",
          "state": {
            "_model_module": "@jupyter-widgets/controls",
            "_model_module_version": "1.5.0",
            "_model_name": "ProgressStyleModel",
            "_view_count": null,
            "_view_module": "@jupyter-widgets/base",
            "_view_module_version": "1.2.0",
            "_view_name": "StyleView",
            "bar_color": null,
            "description_width": ""
          }
        },
        "7536900d78cc4b08ae95f52e54a00b65": {
          "model_module": "@jupyter-widgets/base",
          "model_name": "LayoutModel",
          "model_module_version": "1.2.0",
          "state": {
            "_model_module": "@jupyter-widgets/base",
            "_model_module_version": "1.2.0",
            "_model_name": "LayoutModel",
            "_view_count": null,
            "_view_module": "@jupyter-widgets/base",
            "_view_module_version": "1.2.0",
            "_view_name": "LayoutView",
            "align_content": null,
            "align_items": null,
            "align_self": null,
            "border": null,
            "bottom": null,
            "display": null,
            "flex": null,
            "flex_flow": null,
            "grid_area": null,
            "grid_auto_columns": null,
            "grid_auto_flow": null,
            "grid_auto_rows": null,
            "grid_column": null,
            "grid_gap": null,
            "grid_row": null,
            "grid_template_areas": null,
            "grid_template_columns": null,
            "grid_template_rows": null,
            "height": null,
            "justify_content": null,
            "justify_items": null,
            "left": null,
            "margin": null,
            "max_height": null,
            "max_width": null,
            "min_height": null,
            "min_width": null,
            "object_fit": null,
            "object_position": null,
            "order": null,
            "overflow": null,
            "overflow_x": null,
            "overflow_y": null,
            "padding": null,
            "right": null,
            "top": null,
            "visibility": null,
            "width": null
          }
        },
        "dcc0f21d6a974ef4b9d4b63d5ac087d1": {
          "model_module": "@jupyter-widgets/controls",
          "model_name": "DescriptionStyleModel",
          "model_module_version": "1.5.0",
          "state": {
            "_model_module": "@jupyter-widgets/controls",
            "_model_module_version": "1.5.0",
            "_model_name": "DescriptionStyleModel",
            "_view_count": null,
            "_view_module": "@jupyter-widgets/base",
            "_view_module_version": "1.2.0",
            "_view_name": "StyleView",
            "description_width": ""
          }
        },
        "ca78af144b0840e996c9a3f73db6953a": {
          "model_module": "@jupyter-widgets/controls",
          "model_name": "HBoxModel",
          "model_module_version": "1.5.0",
          "state": {
            "_dom_classes": [],
            "_model_module": "@jupyter-widgets/controls",
            "_model_module_version": "1.5.0",
            "_model_name": "HBoxModel",
            "_view_count": null,
            "_view_module": "@jupyter-widgets/controls",
            "_view_module_version": "1.5.0",
            "_view_name": "HBoxView",
            "box_style": "",
            "children": [
              "IPY_MODEL_86bbda6104c14503bac31e6071cb638c",
              "IPY_MODEL_f266f7ac70594b5c876dcf38822b40bc",
              "IPY_MODEL_a1176989c4014e9f93ab40a5d14e06af"
            ],
            "layout": "IPY_MODEL_72dc750864d44dcc84532f3838310f1e"
          }
        },
        "86bbda6104c14503bac31e6071cb638c": {
          "model_module": "@jupyter-widgets/controls",
          "model_name": "HTMLModel",
          "model_module_version": "1.5.0",
          "state": {
            "_dom_classes": [],
            "_model_module": "@jupyter-widgets/controls",
            "_model_module_version": "1.5.0",
            "_model_name": "HTMLModel",
            "_view_count": null,
            "_view_module": "@jupyter-widgets/controls",
            "_view_module_version": "1.5.0",
            "_view_name": "HTMLView",
            "description": "",
            "description_tooltip": null,
            "layout": "IPY_MODEL_73af35abf47a41d59a3a7d2a47970a9f",
            "placeholder": "​",
            "style": "IPY_MODEL_87e4c925c41545e199aaa26b9af5b5b4",
            "value": ""
          }
        },
        "f266f7ac70594b5c876dcf38822b40bc": {
          "model_module": "@jupyter-widgets/controls",
          "model_name": "FloatProgressModel",
          "model_module_version": "1.5.0",
          "state": {
            "_dom_classes": [],
            "_model_module": "@jupyter-widgets/controls",
            "_model_module_version": "1.5.0",
            "_model_name": "FloatProgressModel",
            "_view_count": null,
            "_view_module": "@jupyter-widgets/controls",
            "_view_module_version": "1.5.0",
            "_view_name": "ProgressView",
            "bar_style": "success",
            "description": "",
            "description_tooltip": null,
            "layout": "IPY_MODEL_01a6939d6e7140b79a47ce3aeffc53c5",
            "max": 1648877,
            "min": 0,
            "orientation": "horizontal",
            "style": "IPY_MODEL_3f097b5da37b432da99fb8d9a10f9658",
            "value": 1648877
          }
        },
        "a1176989c4014e9f93ab40a5d14e06af": {
          "model_module": "@jupyter-widgets/controls",
          "model_name": "HTMLModel",
          "model_module_version": "1.5.0",
          "state": {
            "_dom_classes": [],
            "_model_module": "@jupyter-widgets/controls",
            "_model_module_version": "1.5.0",
            "_model_name": "HTMLModel",
            "_view_count": null,
            "_view_module": "@jupyter-widgets/controls",
            "_view_module_version": "1.5.0",
            "_view_name": "HTMLView",
            "description": "",
            "description_tooltip": null,
            "layout": "IPY_MODEL_17ce50ce4fe44e3bb6ad42453dac4df6",
            "placeholder": "​",
            "style": "IPY_MODEL_825a67f39a9c44afae181c467b778882",
            "value": " 1649664/? [00:00&lt;00:00, 21407398.52it/s]"
          }
        },
        "72dc750864d44dcc84532f3838310f1e": {
          "model_module": "@jupyter-widgets/base",
          "model_name": "LayoutModel",
          "model_module_version": "1.2.0",
          "state": {
            "_model_module": "@jupyter-widgets/base",
            "_model_module_version": "1.2.0",
            "_model_name": "LayoutModel",
            "_view_count": null,
            "_view_module": "@jupyter-widgets/base",
            "_view_module_version": "1.2.0",
            "_view_name": "LayoutView",
            "align_content": null,
            "align_items": null,
            "align_self": null,
            "border": null,
            "bottom": null,
            "display": null,
            "flex": null,
            "flex_flow": null,
            "grid_area": null,
            "grid_auto_columns": null,
            "grid_auto_flow": null,
            "grid_auto_rows": null,
            "grid_column": null,
            "grid_gap": null,
            "grid_row": null,
            "grid_template_areas": null,
            "grid_template_columns": null,
            "grid_template_rows": null,
            "height": null,
            "justify_content": null,
            "justify_items": null,
            "left": null,
            "margin": null,
            "max_height": null,
            "max_width": null,
            "min_height": null,
            "min_width": null,
            "object_fit": null,
            "object_position": null,
            "order": null,
            "overflow": null,
            "overflow_x": null,
            "overflow_y": null,
            "padding": null,
            "right": null,
            "top": null,
            "visibility": null,
            "width": null
          }
        },
        "73af35abf47a41d59a3a7d2a47970a9f": {
          "model_module": "@jupyter-widgets/base",
          "model_name": "LayoutModel",
          "model_module_version": "1.2.0",
          "state": {
            "_model_module": "@jupyter-widgets/base",
            "_model_module_version": "1.2.0",
            "_model_name": "LayoutModel",
            "_view_count": null,
            "_view_module": "@jupyter-widgets/base",
            "_view_module_version": "1.2.0",
            "_view_name": "LayoutView",
            "align_content": null,
            "align_items": null,
            "align_self": null,
            "border": null,
            "bottom": null,
            "display": null,
            "flex": null,
            "flex_flow": null,
            "grid_area": null,
            "grid_auto_columns": null,
            "grid_auto_flow": null,
            "grid_auto_rows": null,
            "grid_column": null,
            "grid_gap": null,
            "grid_row": null,
            "grid_template_areas": null,
            "grid_template_columns": null,
            "grid_template_rows": null,
            "height": null,
            "justify_content": null,
            "justify_items": null,
            "left": null,
            "margin": null,
            "max_height": null,
            "max_width": null,
            "min_height": null,
            "min_width": null,
            "object_fit": null,
            "object_position": null,
            "order": null,
            "overflow": null,
            "overflow_x": null,
            "overflow_y": null,
            "padding": null,
            "right": null,
            "top": null,
            "visibility": null,
            "width": null
          }
        },
        "87e4c925c41545e199aaa26b9af5b5b4": {
          "model_module": "@jupyter-widgets/controls",
          "model_name": "DescriptionStyleModel",
          "model_module_version": "1.5.0",
          "state": {
            "_model_module": "@jupyter-widgets/controls",
            "_model_module_version": "1.5.0",
            "_model_name": "DescriptionStyleModel",
            "_view_count": null,
            "_view_module": "@jupyter-widgets/base",
            "_view_module_version": "1.2.0",
            "_view_name": "StyleView",
            "description_width": ""
          }
        },
        "01a6939d6e7140b79a47ce3aeffc53c5": {
          "model_module": "@jupyter-widgets/base",
          "model_name": "LayoutModel",
          "model_module_version": "1.2.0",
          "state": {
            "_model_module": "@jupyter-widgets/base",
            "_model_module_version": "1.2.0",
            "_model_name": "LayoutModel",
            "_view_count": null,
            "_view_module": "@jupyter-widgets/base",
            "_view_module_version": "1.2.0",
            "_view_name": "LayoutView",
            "align_content": null,
            "align_items": null,
            "align_self": null,
            "border": null,
            "bottom": null,
            "display": null,
            "flex": null,
            "flex_flow": null,
            "grid_area": null,
            "grid_auto_columns": null,
            "grid_auto_flow": null,
            "grid_auto_rows": null,
            "grid_column": null,
            "grid_gap": null,
            "grid_row": null,
            "grid_template_areas": null,
            "grid_template_columns": null,
            "grid_template_rows": null,
            "height": null,
            "justify_content": null,
            "justify_items": null,
            "left": null,
            "margin": null,
            "max_height": null,
            "max_width": null,
            "min_height": null,
            "min_width": null,
            "object_fit": null,
            "object_position": null,
            "order": null,
            "overflow": null,
            "overflow_x": null,
            "overflow_y": null,
            "padding": null,
            "right": null,
            "top": null,
            "visibility": null,
            "width": null
          }
        },
        "3f097b5da37b432da99fb8d9a10f9658": {
          "model_module": "@jupyter-widgets/controls",
          "model_name": "ProgressStyleModel",
          "model_module_version": "1.5.0",
          "state": {
            "_model_module": "@jupyter-widgets/controls",
            "_model_module_version": "1.5.0",
            "_model_name": "ProgressStyleModel",
            "_view_count": null,
            "_view_module": "@jupyter-widgets/base",
            "_view_module_version": "1.2.0",
            "_view_name": "StyleView",
            "bar_color": null,
            "description_width": ""
          }
        },
        "17ce50ce4fe44e3bb6ad42453dac4df6": {
          "model_module": "@jupyter-widgets/base",
          "model_name": "LayoutModel",
          "model_module_version": "1.2.0",
          "state": {
            "_model_module": "@jupyter-widgets/base",
            "_model_module_version": "1.2.0",
            "_model_name": "LayoutModel",
            "_view_count": null,
            "_view_module": "@jupyter-widgets/base",
            "_view_module_version": "1.2.0",
            "_view_name": "LayoutView",
            "align_content": null,
            "align_items": null,
            "align_self": null,
            "border": null,
            "bottom": null,
            "display": null,
            "flex": null,
            "flex_flow": null,
            "grid_area": null,
            "grid_auto_columns": null,
            "grid_auto_flow": null,
            "grid_auto_rows": null,
            "grid_column": null,
            "grid_gap": null,
            "grid_row": null,
            "grid_template_areas": null,
            "grid_template_columns": null,
            "grid_template_rows": null,
            "height": null,
            "justify_content": null,
            "justify_items": null,
            "left": null,
            "margin": null,
            "max_height": null,
            "max_width": null,
            "min_height": null,
            "min_width": null,
            "object_fit": null,
            "object_position": null,
            "order": null,
            "overflow": null,
            "overflow_x": null,
            "overflow_y": null,
            "padding": null,
            "right": null,
            "top": null,
            "visibility": null,
            "width": null
          }
        },
        "825a67f39a9c44afae181c467b778882": {
          "model_module": "@jupyter-widgets/controls",
          "model_name": "DescriptionStyleModel",
          "model_module_version": "1.5.0",
          "state": {
            "_model_module": "@jupyter-widgets/controls",
            "_model_module_version": "1.5.0",
            "_model_name": "DescriptionStyleModel",
            "_view_count": null,
            "_view_module": "@jupyter-widgets/base",
            "_view_module_version": "1.2.0",
            "_view_name": "StyleView",
            "description_width": ""
          }
        },
        "6353e406ca5a43f9b7cfff86d15f7f4b": {
          "model_module": "@jupyter-widgets/controls",
          "model_name": "HBoxModel",
          "model_module_version": "1.5.0",
          "state": {
            "_dom_classes": [],
            "_model_module": "@jupyter-widgets/controls",
            "_model_module_version": "1.5.0",
            "_model_name": "HBoxModel",
            "_view_count": null,
            "_view_module": "@jupyter-widgets/controls",
            "_view_module_version": "1.5.0",
            "_view_name": "HBoxView",
            "box_style": "",
            "children": [
              "IPY_MODEL_ae41b7c80dda405fadcd2bce70717f7a",
              "IPY_MODEL_ca68591d1ae14ed8b0d7c52f0452b56a",
              "IPY_MODEL_c4b374ec335942719206b5f874111b5c"
            ],
            "layout": "IPY_MODEL_eeca82a802ff4f7f9b5cf51f44c2dad6"
          }
        },
        "ae41b7c80dda405fadcd2bce70717f7a": {
          "model_module": "@jupyter-widgets/controls",
          "model_name": "HTMLModel",
          "model_module_version": "1.5.0",
          "state": {
            "_dom_classes": [],
            "_model_module": "@jupyter-widgets/controls",
            "_model_module_version": "1.5.0",
            "_model_name": "HTMLModel",
            "_view_count": null,
            "_view_module": "@jupyter-widgets/controls",
            "_view_module_version": "1.5.0",
            "_view_name": "HTMLView",
            "description": "",
            "description_tooltip": null,
            "layout": "IPY_MODEL_02a5dd7d5f3446549ed66bb40bb6c57a",
            "placeholder": "​",
            "style": "IPY_MODEL_86dbe7ef33064f4b8751881e708547ac",
            "value": ""
          }
        },
        "ca68591d1ae14ed8b0d7c52f0452b56a": {
          "model_module": "@jupyter-widgets/controls",
          "model_name": "FloatProgressModel",
          "model_module_version": "1.5.0",
          "state": {
            "_dom_classes": [],
            "_model_module": "@jupyter-widgets/controls",
            "_model_module_version": "1.5.0",
            "_model_name": "FloatProgressModel",
            "_view_count": null,
            "_view_module": "@jupyter-widgets/controls",
            "_view_module_version": "1.5.0",
            "_view_name": "ProgressView",
            "bar_style": "success",
            "description": "",
            "description_tooltip": null,
            "layout": "IPY_MODEL_e186d6405df94fd283b42f6029b04e23",
            "max": 4542,
            "min": 0,
            "orientation": "horizontal",
            "style": "IPY_MODEL_ac5ae745f2b14f7dbbdea8fd0b673dd6",
            "value": 4542
          }
        },
        "c4b374ec335942719206b5f874111b5c": {
          "model_module": "@jupyter-widgets/controls",
          "model_name": "HTMLModel",
          "model_module_version": "1.5.0",
          "state": {
            "_dom_classes": [],
            "_model_module": "@jupyter-widgets/controls",
            "_model_module_version": "1.5.0",
            "_model_name": "HTMLModel",
            "_view_count": null,
            "_view_module": "@jupyter-widgets/controls",
            "_view_module_version": "1.5.0",
            "_view_name": "HTMLView",
            "description": "",
            "description_tooltip": null,
            "layout": "IPY_MODEL_c9e63b65884e42198a9db6584d1f4969",
            "placeholder": "​",
            "style": "IPY_MODEL_d2a575ade4e64788965746036ce95236",
            "value": " 5120/? [00:00&lt;00:00, 143939.97it/s]"
          }
        },
        "eeca82a802ff4f7f9b5cf51f44c2dad6": {
          "model_module": "@jupyter-widgets/base",
          "model_name": "LayoutModel",
          "model_module_version": "1.2.0",
          "state": {
            "_model_module": "@jupyter-widgets/base",
            "_model_module_version": "1.2.0",
            "_model_name": "LayoutModel",
            "_view_count": null,
            "_view_module": "@jupyter-widgets/base",
            "_view_module_version": "1.2.0",
            "_view_name": "LayoutView",
            "align_content": null,
            "align_items": null,
            "align_self": null,
            "border": null,
            "bottom": null,
            "display": null,
            "flex": null,
            "flex_flow": null,
            "grid_area": null,
            "grid_auto_columns": null,
            "grid_auto_flow": null,
            "grid_auto_rows": null,
            "grid_column": null,
            "grid_gap": null,
            "grid_row": null,
            "grid_template_areas": null,
            "grid_template_columns": null,
            "grid_template_rows": null,
            "height": null,
            "justify_content": null,
            "justify_items": null,
            "left": null,
            "margin": null,
            "max_height": null,
            "max_width": null,
            "min_height": null,
            "min_width": null,
            "object_fit": null,
            "object_position": null,
            "order": null,
            "overflow": null,
            "overflow_x": null,
            "overflow_y": null,
            "padding": null,
            "right": null,
            "top": null,
            "visibility": null,
            "width": null
          }
        },
        "02a5dd7d5f3446549ed66bb40bb6c57a": {
          "model_module": "@jupyter-widgets/base",
          "model_name": "LayoutModel",
          "model_module_version": "1.2.0",
          "state": {
            "_model_module": "@jupyter-widgets/base",
            "_model_module_version": "1.2.0",
            "_model_name": "LayoutModel",
            "_view_count": null,
            "_view_module": "@jupyter-widgets/base",
            "_view_module_version": "1.2.0",
            "_view_name": "LayoutView",
            "align_content": null,
            "align_items": null,
            "align_self": null,
            "border": null,
            "bottom": null,
            "display": null,
            "flex": null,
            "flex_flow": null,
            "grid_area": null,
            "grid_auto_columns": null,
            "grid_auto_flow": null,
            "grid_auto_rows": null,
            "grid_column": null,
            "grid_gap": null,
            "grid_row": null,
            "grid_template_areas": null,
            "grid_template_columns": null,
            "grid_template_rows": null,
            "height": null,
            "justify_content": null,
            "justify_items": null,
            "left": null,
            "margin": null,
            "max_height": null,
            "max_width": null,
            "min_height": null,
            "min_width": null,
            "object_fit": null,
            "object_position": null,
            "order": null,
            "overflow": null,
            "overflow_x": null,
            "overflow_y": null,
            "padding": null,
            "right": null,
            "top": null,
            "visibility": null,
            "width": null
          }
        },
        "86dbe7ef33064f4b8751881e708547ac": {
          "model_module": "@jupyter-widgets/controls",
          "model_name": "DescriptionStyleModel",
          "model_module_version": "1.5.0",
          "state": {
            "_model_module": "@jupyter-widgets/controls",
            "_model_module_version": "1.5.0",
            "_model_name": "DescriptionStyleModel",
            "_view_count": null,
            "_view_module": "@jupyter-widgets/base",
            "_view_module_version": "1.2.0",
            "_view_name": "StyleView",
            "description_width": ""
          }
        },
        "e186d6405df94fd283b42f6029b04e23": {
          "model_module": "@jupyter-widgets/base",
          "model_name": "LayoutModel",
          "model_module_version": "1.2.0",
          "state": {
            "_model_module": "@jupyter-widgets/base",
            "_model_module_version": "1.2.0",
            "_model_name": "LayoutModel",
            "_view_count": null,
            "_view_module": "@jupyter-widgets/base",
            "_view_module_version": "1.2.0",
            "_view_name": "LayoutView",
            "align_content": null,
            "align_items": null,
            "align_self": null,
            "border": null,
            "bottom": null,
            "display": null,
            "flex": null,
            "flex_flow": null,
            "grid_area": null,
            "grid_auto_columns": null,
            "grid_auto_flow": null,
            "grid_auto_rows": null,
            "grid_column": null,
            "grid_gap": null,
            "grid_row": null,
            "grid_template_areas": null,
            "grid_template_columns": null,
            "grid_template_rows": null,
            "height": null,
            "justify_content": null,
            "justify_items": null,
            "left": null,
            "margin": null,
            "max_height": null,
            "max_width": null,
            "min_height": null,
            "min_width": null,
            "object_fit": null,
            "object_position": null,
            "order": null,
            "overflow": null,
            "overflow_x": null,
            "overflow_y": null,
            "padding": null,
            "right": null,
            "top": null,
            "visibility": null,
            "width": null
          }
        },
        "ac5ae745f2b14f7dbbdea8fd0b673dd6": {
          "model_module": "@jupyter-widgets/controls",
          "model_name": "ProgressStyleModel",
          "model_module_version": "1.5.0",
          "state": {
            "_model_module": "@jupyter-widgets/controls",
            "_model_module_version": "1.5.0",
            "_model_name": "ProgressStyleModel",
            "_view_count": null,
            "_view_module": "@jupyter-widgets/base",
            "_view_module_version": "1.2.0",
            "_view_name": "StyleView",
            "bar_color": null,
            "description_width": ""
          }
        },
        "c9e63b65884e42198a9db6584d1f4969": {
          "model_module": "@jupyter-widgets/base",
          "model_name": "LayoutModel",
          "model_module_version": "1.2.0",
          "state": {
            "_model_module": "@jupyter-widgets/base",
            "_model_module_version": "1.2.0",
            "_model_name": "LayoutModel",
            "_view_count": null,
            "_view_module": "@jupyter-widgets/base",
            "_view_module_version": "1.2.0",
            "_view_name": "LayoutView",
            "align_content": null,
            "align_items": null,
            "align_self": null,
            "border": null,
            "bottom": null,
            "display": null,
            "flex": null,
            "flex_flow": null,
            "grid_area": null,
            "grid_auto_columns": null,
            "grid_auto_flow": null,
            "grid_auto_rows": null,
            "grid_column": null,
            "grid_gap": null,
            "grid_row": null,
            "grid_template_areas": null,
            "grid_template_columns": null,
            "grid_template_rows": null,
            "height": null,
            "justify_content": null,
            "justify_items": null,
            "left": null,
            "margin": null,
            "max_height": null,
            "max_width": null,
            "min_height": null,
            "min_width": null,
            "object_fit": null,
            "object_position": null,
            "order": null,
            "overflow": null,
            "overflow_x": null,
            "overflow_y": null,
            "padding": null,
            "right": null,
            "top": null,
            "visibility": null,
            "width": null
          }
        },
        "d2a575ade4e64788965746036ce95236": {
          "model_module": "@jupyter-widgets/controls",
          "model_name": "DescriptionStyleModel",
          "model_module_version": "1.5.0",
          "state": {
            "_model_module": "@jupyter-widgets/controls",
            "_model_module_version": "1.5.0",
            "_model_name": "DescriptionStyleModel",
            "_view_count": null,
            "_view_module": "@jupyter-widgets/base",
            "_view_module_version": "1.2.0",
            "_view_name": "StyleView",
            "description_width": ""
          }
        }
      }
    }
  },
  "cells": [
    {
      "cell_type": "markdown",
      "metadata": {
        "id": "view-in-github",
        "colab_type": "text"
      },
      "source": [
        "<a href=\"https://colab.research.google.com/github/yeahsilver/Vision_Study/blob/main/3_MLP_Training.ipynb\" target=\"_parent\"><img src=\"https://colab.research.google.com/assets/colab-badge.svg\" alt=\"Open In Colab\"/></a>"
      ]
    },
    {
      "cell_type": "markdown",
      "source": [
        "# 3. MLP Training"
      ],
      "metadata": {
        "id": "NjdjmSWroqdN"
      }
    },
    {
      "cell_type": "code",
      "source": [
        "import torch\n",
        "import torch.optim as optim\n",
        "\n",
        "from torch.utils.data import DataLoader\n",
        "from torch.autograd import Variable\n",
        "import matplotlib.pyplot as plt\n",
        "%matplotlib inline\n",
        "import numpy as np"
      ],
      "metadata": {
        "id": "wD1LHFFkosw3"
      },
      "execution_count": 6,
      "outputs": []
    },
    {
      "cell_type": "markdown",
      "source": [
        "## 1. MNIST train, test dataset 가져오기\n",
        "> MNIST 데이터는 필기 숫자의 분류를 위한 학습 데이터 집합"
      ],
      "metadata": {
        "id": "VNkJzHkVpGYs"
      }
    },
    {
      "cell_type": "code",
      "source": [
        "# 모델 학습에 사용할 데이터셋을 불러오는 역할\n",
        "import torchvision.datasets as dset"
      ],
      "metadata": {
        "id": "GIsQUZdQrfH-"
      },
      "execution_count": 7,
      "outputs": []
    },
    {
      "cell_type": "markdown",
      "source": [
        "### **torchvision.datasets** 매개변수는 다음과 같다.\n",
        "- ##### `root`: train/test 데이터가가 저장되어어 있는 경로\n",
        "- ##### `train`: training/test 데이터셋 구별\n",
        "- ##### `download`: 인터넷에 데이터를 저장할지 여부\n",
        "- ##### `transform`: transformation feature 설정"
      ],
      "metadata": {
        "id": "0S8rAzhXr-Se"
      }
    },
    {
      "cell_type": "code",
      "source": [
        "# 모델 학습에 사용할 데이터셋을 변형하는 역할\n",
        "import torchvision.transforms as transforms"
      ],
      "metadata": {
        "id": "1ikB06ceriRB"
      },
      "execution_count": 8,
      "outputs": []
    },
    {
      "cell_type": "code",
      "source": [
        "mnist_train = dset.MNIST(root=\"\", train=True, transform=transforms.ToTensor(), target_transform=None, download=True)\n",
        "mnist_test = dset.MNIST(root=\"\", train=False, transform=transforms.ToTensor(), target_transform=None, download=True)"
      ],
      "metadata": {
        "id": "LRhoF9MbpI9j",
        "colab": {
          "base_uri": "https://localhost:8080/",
          "height": 437,
          "referenced_widgets": [
            "04413a94c540498d859e21ca74686cf5",
            "1d0fa36565d74d0cb30938ca5484b81f",
            "45bed09011bd4d5fbdbbecb148bdb09c",
            "e110db9a85d448b78a354113567aee9d",
            "7de66d38ae2745918ee7a7601dd7dbc9",
            "a8e31430af064bec96debf3e4f3471e8",
            "2b89ca026fdb4c0e9a9096a55c3255df",
            "3830e5754c304463b83561553228b184",
            "27ddffa899ef4bb580fff0a1e8d67315",
            "2c8bfc4ccd1d404192811282bf9b1a25",
            "8c55f3d0575b4ba68202f6711a1eb7eb",
            "4efaa6bf5d8c4454868f98ab25eae231",
            "c097a81c5b354153859b48ae7be23daf",
            "01d6d3e8be354fb0acaf07ff33833320",
            "38d1fca7e6374b7dbe0e43e22bd3bde7",
            "4112b90ae3b940b2b0928c72f18a137b",
            "2d36b52c8ee64bc99fc8e9809ed55d2e",
            "7503b68f9dd94ea9aa8649d500043050",
            "38f906d0164d4862a39a4cb69e644033",
            "3916af7b6c434181be4ba88d4784ae43",
            "7536900d78cc4b08ae95f52e54a00b65",
            "dcc0f21d6a974ef4b9d4b63d5ac087d1",
            "ca78af144b0840e996c9a3f73db6953a",
            "86bbda6104c14503bac31e6071cb638c",
            "f266f7ac70594b5c876dcf38822b40bc",
            "a1176989c4014e9f93ab40a5d14e06af",
            "72dc750864d44dcc84532f3838310f1e",
            "73af35abf47a41d59a3a7d2a47970a9f",
            "87e4c925c41545e199aaa26b9af5b5b4",
            "01a6939d6e7140b79a47ce3aeffc53c5",
            "3f097b5da37b432da99fb8d9a10f9658",
            "17ce50ce4fe44e3bb6ad42453dac4df6",
            "825a67f39a9c44afae181c467b778882",
            "6353e406ca5a43f9b7cfff86d15f7f4b",
            "ae41b7c80dda405fadcd2bce70717f7a",
            "ca68591d1ae14ed8b0d7c52f0452b56a",
            "c4b374ec335942719206b5f874111b5c",
            "eeca82a802ff4f7f9b5cf51f44c2dad6",
            "02a5dd7d5f3446549ed66bb40bb6c57a",
            "86dbe7ef33064f4b8751881e708547ac",
            "e186d6405df94fd283b42f6029b04e23",
            "ac5ae745f2b14f7dbbdea8fd0b673dd6",
            "c9e63b65884e42198a9db6584d1f4969",
            "d2a575ade4e64788965746036ce95236"
          ]
        },
        "outputId": "e7aaee61-eb0b-4076-b238-b035a767a66c"
      },
      "execution_count": 9,
      "outputs": [
        {
          "output_type": "stream",
          "name": "stdout",
          "text": [
            "Downloading http://yann.lecun.com/exdb/mnist/train-images-idx3-ubyte.gz\n",
            "Downloading http://yann.lecun.com/exdb/mnist/train-images-idx3-ubyte.gz to MNIST/raw/train-images-idx3-ubyte.gz\n"
          ]
        },
        {
          "output_type": "display_data",
          "data": {
            "text/plain": [
              "  0%|          | 0/9912422 [00:00<?, ?it/s]"
            ],
            "application/vnd.jupyter.widget-view+json": {
              "version_major": 2,
              "version_minor": 0,
              "model_id": "04413a94c540498d859e21ca74686cf5"
            }
          },
          "metadata": {}
        },
        {
          "output_type": "stream",
          "name": "stdout",
          "text": [
            "Extracting MNIST/raw/train-images-idx3-ubyte.gz to MNIST/raw\n",
            "\n",
            "Downloading http://yann.lecun.com/exdb/mnist/train-labels-idx1-ubyte.gz\n",
            "Downloading http://yann.lecun.com/exdb/mnist/train-labels-idx1-ubyte.gz to MNIST/raw/train-labels-idx1-ubyte.gz\n"
          ]
        },
        {
          "output_type": "display_data",
          "data": {
            "text/plain": [
              "  0%|          | 0/28881 [00:00<?, ?it/s]"
            ],
            "application/vnd.jupyter.widget-view+json": {
              "version_major": 2,
              "version_minor": 0,
              "model_id": "4efaa6bf5d8c4454868f98ab25eae231"
            }
          },
          "metadata": {}
        },
        {
          "output_type": "stream",
          "name": "stdout",
          "text": [
            "Extracting MNIST/raw/train-labels-idx1-ubyte.gz to MNIST/raw\n",
            "\n",
            "Downloading http://yann.lecun.com/exdb/mnist/t10k-images-idx3-ubyte.gz\n",
            "Downloading http://yann.lecun.com/exdb/mnist/t10k-images-idx3-ubyte.gz to MNIST/raw/t10k-images-idx3-ubyte.gz\n"
          ]
        },
        {
          "output_type": "display_data",
          "data": {
            "text/plain": [
              "  0%|          | 0/1648877 [00:00<?, ?it/s]"
            ],
            "application/vnd.jupyter.widget-view+json": {
              "version_major": 2,
              "version_minor": 0,
              "model_id": "ca78af144b0840e996c9a3f73db6953a"
            }
          },
          "metadata": {}
        },
        {
          "output_type": "stream",
          "name": "stdout",
          "text": [
            "Extracting MNIST/raw/t10k-images-idx3-ubyte.gz to MNIST/raw\n",
            "\n",
            "Downloading http://yann.lecun.com/exdb/mnist/t10k-labels-idx1-ubyte.gz\n",
            "Downloading http://yann.lecun.com/exdb/mnist/t10k-labels-idx1-ubyte.gz to MNIST/raw/t10k-labels-idx1-ubyte.gz\n"
          ]
        },
        {
          "output_type": "display_data",
          "data": {
            "text/plain": [
              "  0%|          | 0/4542 [00:00<?, ?it/s]"
            ],
            "application/vnd.jupyter.widget-view+json": {
              "version_major": 2,
              "version_minor": 0,
              "model_id": "6353e406ca5a43f9b7cfff86d15f7f4b"
            }
          },
          "metadata": {}
        },
        {
          "output_type": "stream",
          "name": "stdout",
          "text": [
            "Extracting MNIST/raw/t10k-labels-idx1-ubyte.gz to MNIST/raw\n",
            "\n"
          ]
        }
      ]
    },
    {
      "cell_type": "markdown",
      "source": [
        "## 2. 대략적인 데이터 형태"
      ],
      "metadata": {
        "id": "cfB9-uLstIbw"
      }
    },
    {
      "cell_type": "code",
      "source": [
        "print(\"mnist_train 길이: \", len(mnist_train))\n",
        "print(\"mnist_test 길이: \", len(mnist_test))"
      ],
      "metadata": {
        "colab": {
          "base_uri": "https://localhost:8080/"
        },
        "id": "0HtZDLYstSI2",
        "outputId": "8b8518ce-3c7f-4316-dd9d-31d2d7e6315b"
      },
      "execution_count": 10,
      "outputs": [
        {
          "output_type": "stream",
          "name": "stdout",
          "text": [
            "mnist_train 길이:  60000\n",
            "mnist_test 길이:  10000\n"
          ]
        }
      ]
    },
    {
      "cell_type": "code",
      "source": [
        "# 데이터 하나에 대한 형태 출력\n",
        "image, label = mnist_train.__getitem__(0)\n",
        "print(\"image data 형태: \", image.size())\n",
        "print(\"label: \", label)"
      ],
      "metadata": {
        "colab": {
          "base_uri": "https://localhost:8080/"
        },
        "id": "aHeQodC1tuM4",
        "outputId": "047ce21a-3720-4111-da69-79cac2b75262"
      },
      "execution_count": 11,
      "outputs": [
        {
          "output_type": "stream",
          "name": "stdout",
          "text": [
            "image data 형태:  torch.Size([1, 28, 28])\n",
            "label:  5\n"
          ]
        }
      ]
    },
    {
      "cell_type": "code",
      "source": [
        "# 그리기\n",
        "img = image.numpy() # image 타입을 numpy로 변환 (1, 28, 28)\n",
        "plt.title(\"label: %d\" %label)\n",
        "plt.imshow(img[0], cmap='gray')"
      ],
      "metadata": {
        "colab": {
          "base_uri": "https://localhost:8080/",
          "height": 298
        },
        "id": "NpCUw9gHuB4x",
        "outputId": "e2c0fd2f-27fe-4788-da61-e4c26019b31c"
      },
      "execution_count": 12,
      "outputs": [
        {
          "output_type": "execute_result",
          "data": {
            "text/plain": [
              "<matplotlib.image.AxesImage at 0x7f6e416ca8d0>"
            ]
          },
          "metadata": {},
          "execution_count": 12
        },
        {
          "output_type": "display_data",
          "data": {
            "text/plain": [
              "<Figure size 432x288 with 1 Axes>"
            ],
            "image/png": "[encoded data removed]"
          },
          "metadata": {
            "needs_background": "light"
          }
        }
      ]
    },
    {
      "cell_type": "markdown",
      "source": [
        "## 3. 데이터 로드 함수\n",
        "> 학습시 batch_size 단위로 끊어 로드하기 위해 사용\n",
        "\n",
        "- `batch_size`: 연산 한번에 들어가는 데이터의 크기\n",
        "- `learning_rate`: 어느 정도의 크기로 기울기가 줄어드는 지점으로 이동하겠는가를 나타내는 지표\n",
        "- `num_epoch`: 모든 학습 데이터셋을 학습하는 횟수\n",
        "\n"
      ],
      "metadata": {
        "id": "oq0MIOgMun5A"
      }
    },
    {
      "cell_type": "code",
      "source": [
        "# hyper parameters\n",
        "batch_size = 1024\n",
        "learning_rate = 0.01\n",
        "num_epoch = 400"
      ],
      "metadata": {
        "id": "1ImveAOMumf9"
      },
      "execution_count": 13,
      "outputs": []
    },
    {
      "cell_type": "code",
      "source": [
        "train_loader = torch.utils.data.DataLoader(mnist_train, \n",
        "                                           batch_size=batch_size, \n",
        "                                           shuffle=True,\n",
        "                                           num_workers=2,\n",
        "                                           drop_last=True) # batch_size 만큼 나눌 떄 나머지는 버리는 매개변수\n",
        "\n",
        "test_loader = torch.utils.data.DataLoader(mnist_test,\n",
        "                                          batch_size=batch_size,\n",
        "                                          shuffle=False,\n",
        "                                          num_workers=2,\n",
        "                                          drop_last=True)"
      ],
      "metadata": {
        "id": "JPg2dx_rxsT8"
      },
      "execution_count": 14,
      "outputs": []
    },
    {
      "cell_type": "markdown",
      "source": [
        "### 데이터 로드 함수"
      ],
      "metadata": {
        "id": "TbyMvBUNydIj"
      }
    },
    {
      "cell_type": "code",
      "source": [
        "n = 4 # 샘플로 그려볼 데이터 개수\n",
        "for i, [imgs, labels] in enumerate(test_loader): # batch_size 만큼 반복\n",
        "  if i > 5:\n",
        "    break\n",
        "  print(\"[%d]\" %i)\n",
        "  print(\"한번에 로드되는 데이터 크기\", len(imgs))\n",
        "\n",
        "  # 그리기\n",
        "  for j in range(n):\n",
        "    img = imgs[j].numpy()\n",
        "    img = img.reshape((img.shape[1], img.shape[2]))\n",
        "    print(img.shape)\n",
        "\n",
        "    plt.subplot(1, n, j+1)\n",
        "    plt.imshow(img, cmap=\"gray\")\n",
        "    plt.title(\"label: %d\" %labels[j])\n",
        "  plt.show()"
      ],
      "metadata": {
        "colab": {
          "base_uri": "https://localhost:8080/",
          "height": 1000
        },
        "id": "7DEZk3fJyf5-",
        "outputId": "a64da277-9d74-4f2f-bb00-abc453268f9a"
      },
      "execution_count": 15,
      "outputs": [
        {
          "output_type": "stream",
          "name": "stdout",
          "text": [
            "[0]\n",
            "한번에 로드되는 데이터 크기 1024\n",
            "(28, 28)\n",
            "(28, 28)\n",
            "(28, 28)\n",
            "(28, 28)\n"
          ]
        },
        {
          "output_type": "display_data",
          "data": {
            "text/plain": [
              "<Figure size 432x288 with 4 Axes>"
            ],
            "image/png": "[encoded data removed]"
          },
          "metadata": {
            "needs_background": "light"
          }
        },
        {
          "output_type": "stream",
          "name": "stdout",
          "text": [
            "[1]\n",
            "한번에 로드되는 데이터 크기 1024\n",
            "(28, 28)\n",
            "(28, 28)\n",
            "(28, 28)\n",
            "(28, 28)\n"
          ]
        },
        {
          "output_type": "display_data",
          "data": {
            "text/plain": [
              "<Figure size 432x288 with 4 Axes>"
            ],
            "image/png": "[encoded data removed]"
          },
          "metadata": {
            "needs_background": "light"
          }
        },
        {
          "output_type": "stream",
          "name": "stdout",
          "text": [
            "[2]\n",
            "한번에 로드되는 데이터 크기 1024\n",
            "(28, 28)\n",
            "(28, 28)\n",
            "(28, 28)\n",
            "(28, 28)\n"
          ]
        },
        {
          "output_type": "display_data",
          "data": {
            "text/plain": [
              "<Figure size 432x288 with 4 Axes>"
            ],
            "image/png": "[encoded data removed]"
          },
          "metadata": {
            "needs_background": "light"
          }
        },
        {
          "output_type": "stream",
          "name": "stdout",
          "text": [
            "[3]\n",
            "한번에 로드되는 데이터 크기 1024\n",
            "(28, 28)\n",
            "(28, 28)\n",
            "(28, 28)\n",
            "(28, 28)\n"
          ]
        },
        {
          "output_type": "display_data",
          "data": {
            "text/plain": [
              "<Figure size 432x288 with 4 Axes>"
            ],
            "image/png": "[encoded data removed]"
          },
          "metadata": {
            "needs_background": "light"
          }
        },
        {
          "output_type": "stream",
          "name": "stdout",
          "text": [
            "[4]\n",
            "한번에 로드되는 데이터 크기 1024\n",
            "(28, 28)\n",
            "(28, 28)\n",
            "(28, 28)\n",
            "(28, 28)\n"
          ]
        },
        {
          "output_type": "display_data",
          "data": {
            "text/plain": [
              "<Figure size 432x288 with 4 Axes>"
            ],
            "image/png": "[encoded data removed]"
          },
          "metadata": {
            "needs_background": "light"
          }
        },
        {
          "output_type": "stream",
          "name": "stdout",
          "text": [
            "[5]\n",
            "한번에 로드되는 데이터 크기 1024\n",
            "(28, 28)\n",
            "(28, 28)\n",
            "(28, 28)\n",
            "(28, 28)\n"
          ]
        },
        {
          "output_type": "display_data",
          "data": {
            "text/plain": [
              "<Figure size 432x288 with 4 Axes>"
            ],
            "image/png": "[encoded data removed]"
          },
          "metadata": {
            "needs_background": "light"
          }
        }
      ]
    },
    {
      "cell_type": "markdown",
      "source": [
        "## 4. 모델 선언"
      ],
      "metadata": {
        "id": "limXzsBQ1YQu"
      }
    },
    {
      "cell_type": "markdown",
      "source": [
        "##### **torch.nn**\n",
        "torch.nn은 pytorch의 모든 neural network base class이다"
      ],
      "metadata": {
        "id": "cFaOCs-46l_I"
      }
    },
    {
      "cell_type": "code",
      "source": [
        "import torch.nn as nn"
      ],
      "metadata": {
        "id": "OVDio01q2g36"
      },
      "execution_count": 16,
      "outputs": []
    },
    {
      "cell_type": "markdown",
      "source": [
        "- `linear`\n",
        "  - Linear layer, Fully connected layer, Dense layer...\n",
        "  - 다수의 복수레이어를 사용. \n",
        "  - 각 레이어마다 입력 데이터의 패턴을 학습하고 다음 레이어는 앞에서 학습한 패턴을 기반으로 학습을 이어나감\n",
        "  - 선형변환을 활용하여 데이터를 특정 차원으로 변환\n",
        "\n",
        "- `non-linear`\n",
        "> 입력을 받아 수학적 변환을 적용하고 출력을 생성하는 함수\n",
        "\n",
        "  - Sigmoid\n",
        "    - 출력값의 범위가 0~1사이이며,매우 매끄러운 곡선을 가지므로 경사하강법을 시행할 때 기울기가 급격하게 발산하는 기울기 폭주가 발생하지 않는다.\n",
        "    - 분류는 0과 1로 나뉘며, 출력값이 어느 값에 가까운지를 통해 어느 분류에 속하는지 쉽게 알 수 있다.\n",
        "\n",
        "</br>\n",
        "\n",
        "##### Reference\n",
        "- https://ehdgns.tistory.com/64"
      ],
      "metadata": {
        "id": "JmDq2EON8HAx"
      }
    },
    {
      "cell_type": "code",
      "source": [
        "# 모델 선언\n",
        "# * 퍼셉트론 (2 hidden layer) *\n",
        "model = nn.Sequential(\n",
        "        nn.Linear(28*28, 256),\n",
        "        nn.Sigmoid(),\n",
        "        nn.Linear(256, 128),\n",
        "        nn.Linear(128, 10)\n",
        ")\n",
        "\n",
        "# 파라미터 보기\n",
        "print(list(model.parameters()))"
      ],
      "metadata": {
        "colab": {
          "base_uri": "https://localhost:8080/"
        },
        "id": "asFIU2611aXV",
        "outputId": "8f6362d4-da4e-409b-fec0-64cfa39521d4"
      },
      "execution_count": 17,
      "outputs": [
        {
          "output_type": "stream",
          "name": "stdout",
          "text": [
            "[Parameter containing:\n",
            "tensor([[-0.0183,  0.0280, -0.0170,  ...,  0.0130, -0.0126, -0.0037],\n",
            "        [-0.0081, -0.0143,  0.0073,  ...,  0.0213,  0.0042, -0.0087],\n",
            "        [-0.0205,  0.0271,  0.0238,  ..., -0.0223, -0.0024, -0.0260],\n",
            "        ...,\n",
            "        [-0.0262, -0.0057,  0.0350,  ...,  0.0223,  0.0190,  0.0011],\n",
            "        [-0.0158,  0.0044, -0.0013,  ...,  0.0209,  0.0344, -0.0088],\n",
            "        [-0.0357,  0.0050, -0.0100,  ..., -0.0287,  0.0095, -0.0105]],\n",
            "       requires_grad=True), Parameter containing:\n",
            "tensor([-0.0280, -0.0339, -0.0257, -0.0138, -0.0325, -0.0320, -0.0203,  0.0304,\n",
            "         0.0336, -0.0319, -0.0021,  0.0252,  0.0214,  0.0182, -0.0062,  0.0312,\n",
            "         0.0244,  0.0226,  0.0084, -0.0194,  0.0340, -0.0235,  0.0191, -0.0188,\n",
            "        -0.0134,  0.0066,  0.0159,  0.0298,  0.0005, -0.0008, -0.0338, -0.0317,\n",
            "        -0.0307,  0.0200, -0.0180, -0.0145,  0.0336,  0.0080,  0.0073,  0.0349,\n",
            "         0.0237, -0.0103, -0.0322,  0.0193, -0.0207,  0.0074,  0.0188, -0.0066,\n",
            "        -0.0059, -0.0075, -0.0068, -0.0137, -0.0114, -0.0200, -0.0335, -0.0101,\n",
            "         0.0008,  0.0015, -0.0064, -0.0316,  0.0028,  0.0123,  0.0272,  0.0081,\n",
            "         0.0072, -0.0311,  0.0029,  0.0071,  0.0339,  0.0103, -0.0019,  0.0099,\n",
            "        -0.0175,  0.0306,  0.0144,  0.0347,  0.0011, -0.0119,  0.0231, -0.0284,\n",
            "         0.0224,  0.0098, -0.0104, -0.0239, -0.0126,  0.0196,  0.0351, -0.0150,\n",
            "         0.0199, -0.0239,  0.0004,  0.0019, -0.0321,  0.0010, -0.0036,  0.0080,\n",
            "         0.0117, -0.0011,  0.0320,  0.0071, -0.0089, -0.0181,  0.0098, -0.0110,\n",
            "        -0.0353,  0.0279, -0.0213,  0.0194,  0.0043, -0.0207,  0.0206,  0.0006,\n",
            "        -0.0293,  0.0296, -0.0121, -0.0248, -0.0276,  0.0192,  0.0073, -0.0238,\n",
            "         0.0287, -0.0323, -0.0278,  0.0117, -0.0095,  0.0340,  0.0036,  0.0152,\n",
            "        -0.0235, -0.0259, -0.0195, -0.0271,  0.0348,  0.0028,  0.0028,  0.0234,\n",
            "         0.0252,  0.0094,  0.0120,  0.0274, -0.0335,  0.0070, -0.0169, -0.0266,\n",
            "         0.0150, -0.0355, -0.0037,  0.0252, -0.0155,  0.0048, -0.0113, -0.0159,\n",
            "        -0.0348, -0.0315, -0.0206, -0.0154,  0.0332,  0.0320, -0.0098,  0.0167,\n",
            "         0.0281, -0.0147, -0.0249,  0.0314, -0.0048,  0.0252,  0.0162,  0.0180,\n",
            "        -0.0098, -0.0219,  0.0244, -0.0164,  0.0356, -0.0352,  0.0071, -0.0275,\n",
            "        -0.0168, -0.0161, -0.0011, -0.0149,  0.0170, -0.0075,  0.0017,  0.0295,\n",
            "         0.0118,  0.0153,  0.0080, -0.0276, -0.0090, -0.0250,  0.0235, -0.0151,\n",
            "         0.0116, -0.0138,  0.0173, -0.0308, -0.0060,  0.0032,  0.0276,  0.0288,\n",
            "         0.0273,  0.0228, -0.0232, -0.0270,  0.0083,  0.0080,  0.0066,  0.0097,\n",
            "         0.0338,  0.0197,  0.0106, -0.0142, -0.0270, -0.0175,  0.0164, -0.0074,\n",
            "         0.0033, -0.0191,  0.0138,  0.0277, -0.0283,  0.0237, -0.0203, -0.0217,\n",
            "        -0.0137, -0.0296, -0.0076, -0.0166, -0.0335,  0.0157, -0.0119, -0.0092,\n",
            "         0.0325, -0.0114, -0.0263, -0.0088,  0.0095, -0.0209,  0.0064, -0.0207,\n",
            "        -0.0243,  0.0339,  0.0175,  0.0037, -0.0224,  0.0086, -0.0133,  0.0324,\n",
            "         0.0286,  0.0226, -0.0080, -0.0070, -0.0116,  0.0113,  0.0223,  0.0214],\n",
            "       requires_grad=True), Parameter containing:\n",
            "tensor([[ 0.0551, -0.0262,  0.0509,  ..., -0.0523,  0.0010, -0.0052],\n",
            "        [ 0.0181, -0.0326, -0.0534,  ...,  0.0451, -0.0337,  0.0096],\n",
            "        [ 0.0098,  0.0554, -0.0074,  ..., -0.0149, -0.0574, -0.0115],\n",
            "        ...,\n",
            "        [ 0.0133,  0.0473, -0.0278,  ...,  0.0591,  0.0062,  0.0344],\n",
            "        [ 0.0397, -0.0458, -0.0126,  ...,  0.0506, -0.0246, -0.0136],\n",
            "        [-0.0381,  0.0585, -0.0113,  ..., -0.0357, -0.0094,  0.0491]],\n",
            "       requires_grad=True), Parameter containing:\n",
            "tensor([-0.0345, -0.0330, -0.0258, -0.0013,  0.0359,  0.0150, -0.0113, -0.0547,\n",
            "         0.0460,  0.0577, -0.0109,  0.0010,  0.0059,  0.0020,  0.0498,  0.0163,\n",
            "         0.0604, -0.0378,  0.0522,  0.0206, -0.0488,  0.0366,  0.0292,  0.0296,\n",
            "        -0.0067,  0.0152, -0.0446,  0.0298,  0.0430,  0.0072, -0.0481, -0.0257,\n",
            "         0.0368,  0.0364, -0.0559,  0.0104,  0.0233, -0.0271,  0.0174, -0.0550,\n",
            "         0.0170,  0.0111,  0.0445, -0.0228, -0.0608, -0.0053,  0.0524,  0.0158,\n",
            "        -0.0416, -0.0465, -0.0108, -0.0217, -0.0050, -0.0609,  0.0469,  0.0340,\n",
            "         0.0197, -0.0001, -0.0236,  0.0042, -0.0309,  0.0037,  0.0444, -0.0525,\n",
            "         0.0511,  0.0609, -0.0114, -0.0576,  0.0227, -0.0604,  0.0077, -0.0380,\n",
            "        -0.0551,  0.0483,  0.0128, -0.0435, -0.0056, -0.0353,  0.0040,  0.0379,\n",
            "        -0.0596, -0.0520, -0.0522,  0.0503, -0.0063, -0.0169,  0.0284,  0.0272,\n",
            "        -0.0045,  0.0292,  0.0501,  0.0035, -0.0096,  0.0428,  0.0173,  0.0478,\n",
            "         0.0394,  0.0292, -0.0235,  0.0280, -0.0560,  0.0022, -0.0318,  0.0023,\n",
            "        -0.0288, -0.0579,  0.0561,  0.0265, -0.0037, -0.0352,  0.0408, -0.0307,\n",
            "        -0.0467,  0.0365, -0.0261, -0.0148, -0.0513,  0.0333, -0.0321,  0.0277,\n",
            "        -0.0540,  0.0355, -0.0323, -0.0013, -0.0005, -0.0506,  0.0520, -0.0018],\n",
            "       requires_grad=True), Parameter containing:\n",
            "tensor([[-0.0098, -0.0206,  0.0780,  ...,  0.0617, -0.0870,  0.0379],\n",
            "        [ 0.0653, -0.0869,  0.0689,  ..., -0.0389, -0.0127,  0.0795],\n",
            "        [-0.0760, -0.0313,  0.0623,  ..., -0.0423,  0.0612, -0.0100],\n",
            "        ...,\n",
            "        [ 0.0117, -0.0226, -0.0707,  ..., -0.0595,  0.0426,  0.0454],\n",
            "        [-0.0672,  0.0466, -0.0060,  ...,  0.0176,  0.0502,  0.0654],\n",
            "        [ 0.0126, -0.0447,  0.0668,  ..., -0.0184,  0.0858, -0.0833]],\n",
            "       requires_grad=True), Parameter containing:\n",
            "tensor([ 0.0785,  0.0046,  0.0715, -0.0522,  0.0810,  0.0613, -0.0133, -0.0053,\n",
            "        -0.0610,  0.0851], requires_grad=True)]\n"
          ]
        }
      ]
    },
    {
      "cell_type": "code",
      "source": [
        "def ComputeAccr(dloader, imodel):\n",
        "  correct = 0\n",
        "  total = 0\n",
        "\n",
        "  for j, [imgs, labels] in enumerate(dloader): \n",
        "    img = imgs # x-axis\n",
        "    label = Variable(labels) # y-axis\n",
        "\n",
        "    # (batch_size, 1, 28, 28) -> (batch_size, 28, 28)\n",
        "    img = img.reshape((img.shape[0], img.shape[2], img.shape[3])) \n",
        "    # (batch_size, 28, 28) -> (batch_size, 28*28)\n",
        "    img = img.reshape((img.shape[0], img.shape[1]*img.shape[2]))\n",
        "    img = Variable(img, requires_grad=False)\n",
        "\n",
        "    output = imodel(img)\n",
        "    _, output_index = torch.max(output, 1)\n",
        "\n",
        "    total += label.size(0)\n",
        "    correct += (output_index == label).sum().float()\n",
        "  print(\"Accuracy of Test Data: {}\". format(100*correct/total))"
      ],
      "metadata": {
        "id": "8mt8eXV0CErD"
      },
      "execution_count": 18,
      "outputs": []
    },
    {
      "cell_type": "code",
      "source": [
        "ComputeAccr(test_loader, model)"
      ],
      "metadata": {
        "colab": {
          "base_uri": "https://localhost:8080/"
        },
        "id": "0lbRKvPJC81b",
        "outputId": "6fddff37-1adc-4208-bc11-2121116e2630"
      },
      "execution_count": 19,
      "outputs": [
        {
          "output_type": "stream",
          "name": "stdout",
          "text": [
            "Accuracy of Test Data: 9.87413215637207\n"
          ]
        }
      ]
    },
    {
      "cell_type": "markdown",
      "source": [
        "## 5. Loss, Optimizer"
      ],
      "metadata": {
        "id": "9ruBy4nYe9wL"
      }
    },
    {
      "cell_type": "code",
      "source": [
        "loss_func = nn.CrossEntropyLoss() # 머신러닝의 분류 모델이 얼마나 잘 수행 되는지 측정\n",
        "optimizer = optim.SGD(model.parameters(), lr=learning_rate) # 경사하강법. 전체 데이터를 가지고 batch단위로 loss function을 계산"
      ],
      "metadata": {
        "id": "f_0YbWS_e_2n"
      },
      "execution_count": 20,
      "outputs": []
    },
    {
      "cell_type": "markdown",
      "source": [
        "## 6. 학습"
      ],
      "metadata": {
        "id": "xaVVhVWNgWjO"
      }
    },
    {
      "cell_type": "code",
      "source": [
        "for i in range(num_epoch):\n",
        "  for j, [imgs, labels] in enumerate(train_loader):\n",
        "    img = imgs\n",
        "    label = Variable(labels)\n",
        "\n",
        "    img = img.reshape((img.shape[0], img.shape[2], img.shape[3]))\n",
        "    img = img.reshape((img.shape[0], img.shape[1]*img.shape[2]))\n",
        "    img = Variable(img, requires_grad=True)\n",
        "\n",
        "    optimizer.zero_grad() # zero_grad()를 하지 않고 역전파를 시키면 이전 루프에서 grad에 저장된 값이 다음 루프의 업데이트에 간섭 (.grad 값을 0으로 초기화)\n",
        "    output = model(img)\n",
        "    loss = loss_func(output, label)\n",
        "\n",
        "    loss.backward() # 각 파라미터의 .grad값 변화\n",
        "    optimizer.step()\n",
        "\n",
        "  if i % 50 == 0:\n",
        "    print(\"%d..\" %i)\n",
        "    ComputeAccr(test_loader, model)\n",
        "    print(loss)"
      ],
      "metadata": {
        "colab": {
          "base_uri": "https://localhost:8080/"
        },
        "id": "h_RqkDmJgV57",
        "outputId": "3ed02738-3f9b-4d09-9f7f-1d5cc6739c2b"
      },
      "execution_count": null,
      "outputs": [
        {
          "output_type": "stream",
          "name": "stdout",
          "text": [
            "0..\n",
            "Accuracy of Test Data: 11.295573234558105\n",
            "tensor(2.2977, grad_fn=<NllLossBackward0>)\n",
            "50..\n",
            "Accuracy of Test Data: 80.77256774902344\n",
            "tensor(0.6938, grad_fn=<NllLossBackward0>)\n",
            "100..\n",
            "Accuracy of Test Data: 88.24869537353516\n",
            "tensor(0.4590, grad_fn=<NllLossBackward0>)\n",
            "150..\n",
            "Accuracy of Test Data: 89.80034637451172\n",
            "tensor(0.3803, grad_fn=<NllLossBackward0>)\n",
            "200..\n",
            "Accuracy of Test Data: 90.66840362548828\n",
            "tensor(0.2969, grad_fn=<NllLossBackward0>)\n",
            "250..\n",
            "Accuracy of Test Data: 91.24349212646484\n",
            "tensor(0.2844, grad_fn=<NllLossBackward0>)\n",
            "300..\n",
            "Accuracy of Test Data: 91.57986450195312\n",
            "tensor(0.3261, grad_fn=<NllLossBackward0>)\n",
            "350..\n",
            "Accuracy of Test Data: 91.85112762451172\n",
            "tensor(0.2763, grad_fn=<NllLossBackward0>)\n"
          ]
        }
      ]
    },
    {
      "cell_type": "markdown",
      "source": [
        "## 7. 테스트"
      ],
      "metadata": {
        "id": "JxSRASDiKeYc"
      }
    },
    {
      "cell_type": "code",
      "source": [
        "ComputeAccr(test_loader, model)"
      ],
      "metadata": {
        "colab": {
          "base_uri": "https://localhost:8080/"
        },
        "id": "qCwLHozsKRyh",
        "outputId": "92a2ff26-02af-4e7f-c350-e055af6be516"
      },
      "execution_count": 22,
      "outputs": [
        {
          "metadata": {
            "tags": null
          },
          "name": "stdout",
          "output_type": "stream",
          "text": [
            "Accuracy of Test Data: 91.98133850097656\n"
          ]
        }
      ]
    }
  ]
}